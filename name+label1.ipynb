{
 "cells": [
  {
   "cell_type": "code",
   "execution_count": 19,
   "metadata": {
    "collapsed": false
   },
   "outputs": [],
   "source": [
    "#!/usr/bin/env python\n",
    "\n",
    "import sys\n",
    "\n",
    "inputfile1 = \"/home/wutong/caffe/gei/gei_data/noise/train_label_0208.txt\"\n",
    "inputfile2 = \"/home/wutong/caffe/gei/gei_data/noise/test_label_0208.txt\"\n",
    "infile1 = open(inputfile1,\"r\")\n",
    "infile2 = open(inputfile2,\"r\")\n",
    "outfile_train = \"/home/wutong/caffe/gei/gei_data/train_label_0208_128.txt\"\n",
    "outfile_test = \"/home/wutong/caffe/gei/gei_data/test_label_0208_128.txt\"\n",
    "ofile_train = open(outfile_train,\"w\")\n",
    "ofile_test = open(outfile_test,\"w\")\n",
    "#ofile_validation = open(outfile_validation,\"w\")"
   ]
  },
  {
   "cell_type": "code",
   "execution_count": 20,
   "metadata": {
    "collapsed": false
   },
   "outputs": [],
   "source": [
    "itemList1 = infile1.readlines()\n",
    "itemList2 = infile2.readlines()\n",
    "\n",
    "# count = 0\n",
    "# flag = 0"
   ]
  },
  {
   "cell_type": "code",
   "execution_count": 21,
   "metadata": {
    "collapsed": false
   },
   "outputs": [],
   "source": [
    "\n",
    "for item in itemList1:\n",
    "    filelist = item.replace('\\n','')\n",
    "    size= []\n",
    "    size = filelist.split('_')\n",
    "\n",
    "    pval = size[3].split('.')\n",
    "    \n",
    "    if(size[2] == \"128\"):\n",
    "        if int(pval[0]) == 0:\n",
    "            ofile_train.write(filelist)\n",
    "            ofile_train.write(\"\\n\")\n",
    "\n",
    "for item in itemList2:\n",
    "    filelist = item.replace('\\n','')\n",
    "    size= []\n",
    "    size = filelist.split('_')\n",
    "    p_val = size[3].split('.')\n",
    "    \n",
    "    if(size[2] == \"016\"):\n",
    "        if int(p_val[0]) == 0 :\n",
    "            ofile_test.write(filelist)\n",
    "            ofile_test.write(\"\\n\")\n",
    "\n",
    "# for item in itemList:\n",
    "#     if flag <= 499:\n",
    "#         filelist1 = item.replace('\\n','')\n",
    "#         size1 = filelist1.split('_')\n",
    "#         if(size1[2] == 128):    \n",
    "#             ofile_train.write(filelist1)\n",
    "#             ofile_train.write(' ')\n",
    "#             ofile_train.write(str(count))\n",
    "#             ofile_train.write(\"\\n\")\n",
    "         \n",
    "#     elif flag >= 500 & flag <=599:\n",
    "#         filelist2 = item.replace('\\n','')\n",
    "#         size2 = filelist2.split('_')\n",
    "#         if(size2[2] == 128):\n",
    "#             ofile_test.write(filelist2)\n",
    "#             ofile_test.write(' ')\n",
    "#             ofile_test.write(str(count))\n",
    "#             ofile_test.write(\"\\n\")\n",
    "#     flag = flag + 1\n",
    "#     if flag == 600:\n",
    "#         flag = 0\n",
    "#         count = count + 1"
   ]
  },
  {
   "cell_type": "code",
   "execution_count": null,
   "metadata": {
    "collapsed": true
   },
   "outputs": [],
   "source": []
  },
  {
   "cell_type": "code",
   "execution_count": null,
   "metadata": {
    "collapsed": true
   },
   "outputs": [],
   "source": []
  }
 ],
 "metadata": {
  "kernelspec": {
   "display_name": "Python 2",
   "language": "python",
   "name": "python2"
  },
  "language_info": {
   "codemirror_mode": {
    "name": "ipython",
    "version": 2
   },
   "file_extension": ".py",
   "mimetype": "text/x-python",
   "name": "python",
   "nbconvert_exporter": "python",
   "pygments_lexer": "ipython2",
   "version": "2.7.11"
  }
 },
 "nbformat": 4,
 "nbformat_minor": 0
}
