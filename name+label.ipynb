{
 "cells": [
  {
   "cell_type": "code",
   "execution_count": 5,
   "metadata": {
    "collapsed": true
   },
   "outputs": [],
   "source": [
    "#!/usr/bin/env python\n",
    "\n",
    "import sys\n",
    "\n",
    "inputfile = \"/home/wutong/Desktop/AllImage/list.txt\"\n",
    "infile = open(inputfile,\"r\")\n",
    "outfile_train = \"/home/wutong/caffe/gei/gei_data/train_label_0208.txt\"\n",
    "outfile_test = \"/home/wutong/caffe/gei/gei_data/test_label_0208.txt\"\n",
    "ofile_train = open(outfile_train,\"w\")\n",
    "ofile_test = open(outfile_test,\"w\")\n",
    "#ofile_validation = open(outfile_validation,\"w\")"
   ]
  },
  {
   "cell_type": "code",
   "execution_count": 6,
   "metadata": {
    "collapsed": false
   },
   "outputs": [],
   "source": [
    "itemList = infile.readlines()\n",
    "count = 0\n",
    "flag = 0"
   ]
  },
  {
   "cell_type": "code",
   "execution_count": 7,
   "metadata": {
    "collapsed": false
   },
   "outputs": [],
   "source": [
    "for item in itemList:\n",
    "    if flag <= 499:\n",
    "        ofile_train.write(item.replace('\\n',''))\n",
    "        ofile_train.write(' ')\n",
    "        ofile_train.write(str(count))\n",
    "        ofile_train.write(\"\\n\")\n",
    "    elif flag >= 500 and flag <=749:\n",
    "        ofile_test.write(item.replace('\\n',''))\n",
    "        ofile_test.write(' ')\n",
    "        ofile_test.write(str(count))\n",
    "        ofile_test.write(\"\\n\")\n",
    "    flag = flag + 1\n",
    "    if flag == 750:\n",
    "        flag = 0\n",
    "        count = count + 1"
   ]
  },
  {
   "cell_type": "code",
   "execution_count": 4,
   "metadata": {
    "collapsed": false
   },
   "outputs": [
    {
     "data": {
      "text/plain": [
       "250"
      ]
     },
     "execution_count": 4,
     "metadata": {},
     "output_type": "execute_result"
    }
   ],
   "source": [
    "\n"
   ]
  },
  {
   "cell_type": "code",
   "execution_count": null,
   "metadata": {
    "collapsed": true
   },
   "outputs": [],
   "source": []
  }
 ],
 "metadata": {
  "kernelspec": {
   "display_name": "Python 2",
   "language": "python",
   "name": "python2"
  },
  "language_info": {
   "codemirror_mode": {
    "name": "ipython",
    "version": 2
   },
   "file_extension": ".py",
   "mimetype": "text/x-python",
   "name": "python",
   "nbconvert_exporter": "python",
   "pygments_lexer": "ipython2",
   "version": "2.7.11"
  }
 },
 "nbformat": 4,
 "nbformat_minor": 0
}
